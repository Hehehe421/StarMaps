{
 "cells": [
  {
   "cell_type": "code",
   "execution_count": 0,
   "metadata": {
    "application/vnd.databricks.v1+cell": {
     "cellMetadata": {
      "byteLimit": 2048000,
      "rowLimit": 10000
     },
     "inputWidgets": {},
     "nuid": "79d32d54-049e-4826-93db-e5a4981033bb",
     "showTitle": false,
     "title": ""
    }
   },
   "outputs": [],
   "source": [
    "#!pip install skyfield\n",
    "#!pip install tzwhere\n",
    "#!pip install geopy"
   ]
  },
  {
   "cell_type": "code",
   "execution_count": 0,
   "metadata": {
    "application/vnd.databricks.v1+cell": {
     "cellMetadata": {
      "byteLimit": 2048000,
      "rowLimit": 10000
     },
     "inputWidgets": {},
     "nuid": "3dea547b-9b78-420f-869c-9ef30a63e397",
     "showTitle": false,
     "title": ""
    }
   },
   "outputs": [],
   "source": [
    "from datetime import datetime\n",
    "from geopy import Nominatim\n",
    "from tzwhere import tzwhere\n",
    "from pytz import timezone, utc\n",
    "\n",
    "import numpy as np\n",
    "import matplotlib.pyplot as plt\n",
    "from matplotlib.collections import LineCollection\n",
    "from matplotlib.patches import Circle\n",
    "\n",
    "from skyfield.api import Star, load, wgs84\n",
    "from skyfield.data import hipparcos, mpc, stellarium\n",
    "from skyfield.projections import build_stereographic_projection\n",
    "from skyfield.constants import GM_SUN_Pitjeva_2005_km3_s2 as GM_SUN\n",
    "\n",
    "import warnings\n",
    "warnings.filterwarnings(\"ignore\")"
   ]
  },
  {
   "cell_type": "code",
   "execution_count": 0,
   "metadata": {
    "application/vnd.databricks.v1+cell": {
     "cellMetadata": {
      "byteLimit": 2048000,
      "rowLimit": 10000
     },
     "inputWidgets": {},
     "nuid": "11d883f9-f54d-449f-9645-8ab468485996",
     "showTitle": false,
     "title": ""
    }
   },
   "outputs": [],
   "source": [
    "def load_data():\n",
    "    # load celestial data\n",
    "    # de421 shows position of earth and sun in space\n",
    "    eph = load('de421.bsp')\n",
    "\n",
    "    # hipparcos dataset contains star location data\n",
    "    with load.open(hipparcos.URL) as f:\n",
    "        stars = hipparcos.load_dataframe(f)\n",
    "\n",
    "    # And the constellation outlines come from Stellarium.  We make a list\n",
    "    # of the stars at which each edge stars, and the star at which each edge\n",
    "    # ends.\n",
    "\n",
    "    url = ('https://raw.githubusercontent.com/Stellarium/stellarium/master'\n",
    "           '/skycultures/modern_st/constellationship.fab')\n",
    "\n",
    "    with load.open(url) as f:\n",
    "        constellations = stellarium.parse_constellations(f)\n",
    "        \n",
    "    return eph, stars, constellations"
   ]
  },
  {
   "cell_type": "code",
   "execution_count": 0,
   "metadata": {
    "application/vnd.databricks.v1+cell": {
     "cellMetadata": {
      "byteLimit": 2048000,
      "rowLimit": 10000
     },
     "inputWidgets": {},
     "nuid": "4e848790-d1fd-430e-99c4-589dd2fb37d0",
     "showTitle": false,
     "title": ""
    }
   },
   "outputs": [],
   "source": [
    "# load celestial data\n",
    "eph, stars, constellations = load_data()"
   ]
  },
  {
   "cell_type": "code",
   "execution_count": 0,
   "metadata": {
    "application/vnd.databricks.v1+cell": {
     "cellMetadata": {
      "byteLimit": 2048000,
      "rowLimit": 10000
     },
     "inputWidgets": {},
     "nuid": "87b26c45-ad54-4430-b7b2-ba8d8058e627",
     "showTitle": false,
     "title": ""
    }
   },
   "outputs": [],
   "source": [
    "def collect_celestial_data(location, when):\n",
    "    # get latitude and longitude of our location \n",
    "    locator = Nominatim(user_agent='myGeocoder')\n",
    "    location = locator.geocode(location)\n",
    "    lat, long = location.latitude, location.longitude\n",
    "    \n",
    "    # convert date string into datetime object\n",
    "    dt = datetime.strptime(when, '%Y-%m-%d %H:%M')\n",
    "\n",
    "    # define datetime and convert to utc based on our timezone\n",
    "    timezone_str = tzwhere.tzwhere().tzNameAt(lat, long)\n",
    "    local = timezone(timezone_str)\n",
    "\n",
    "    # get UTC from local timezone and datetime\n",
    "    local_dt = local.localize(dt, is_dst=None)\n",
    "    utc_dt = local_dt.astimezone(utc)\n",
    "\n",
    "    # load celestial data\n",
    "    # eph, stars, constellations = load_data()\n",
    "\n",
    "    # find location of earth and sun and set the observer position\n",
    "    sun = eph['sun']\n",
    "    earth = eph['earth']\n",
    "\n",
    "    # define observation time from our UTC datetime\n",
    "    ts = load.timescale()\n",
    "    t = ts.from_datetime(utc_dt)\n",
    "\n",
    "    # define an observer using the world geodetic system data\n",
    "    observer = wgs84.latlon(latitude_degrees=lat, longitude_degrees=long).at(t)\n",
    "\n",
    "    # define the position in the sky where we will be looking\n",
    "    position = observer.from_altaz(alt_degrees=90, az_degrees=0)\n",
    "    # center the observation point in the middle of the sky\n",
    "    ra, dec, distance = observer.radec()\n",
    "    center_object = Star(ra=ra, dec=dec)\n",
    "\n",
    "    # find where our center object is relative to earth and build a projection with 180 degree view\n",
    "    center = earth.at(t).observe(center_object)\n",
    "    projection = build_stereographic_projection(center)\n",
    "    field_of_view_degrees = 180.0\n",
    "\n",
    "    # calculate star positions and project them onto a plain space\n",
    "    star_positions = earth.at(t).observe(Star.from_dataframe(stars))\n",
    "    stars['x'], stars['y'] = projection(star_positions)\n",
    "    \n",
    "    edges = [edge for name, edges in constellations for edge in edges]\n",
    "    edges_star1 = [star1 for star1, star2 in edges]\n",
    "    edges_star2 = [star2 for star1, star2 in edges]\n",
    "\n",
    "    \n",
    "    return stars, edges_star1, edges_star2"
   ]
  },
  {
   "cell_type": "code",
   "execution_count": 0,
   "metadata": {
    "application/vnd.databricks.v1+cell": {
     "cellMetadata": {
      "byteLimit": 2048000,
      "rowLimit": 10000
     },
     "inputWidgets": {},
     "nuid": "b026999f-33a8-4d69-b425-a35ae47becab",
     "showTitle": false,
     "title": ""
    }
   },
   "outputs": [],
   "source": [
    "import matplotlib.pyplot as plt\n",
    "from matplotlib.patches import Circle\n",
    "from datetime import datetime\n",
    "\n",
    "\n",
    "def create_star_chart(location, when, chart_size, max_star_size):\n",
    "    stars, edges_star1, edges_star2 = collect_celestial_data(location, when)\n",
    "    limiting_magnitude = 10\n",
    "    bright_stars = (stars.magnitude <= limiting_magnitude)\n",
    "    magnitude = stars['magnitude'][bright_stars]\n",
    "    fig, ax = plt.subplots(figsize=(chart_size, chart_size))\n",
    "    \n",
    "    #use the night sky color code\n",
    "    border = plt.Circle((0, 0), 1, color='#041A40', fill=True) \n",
    "    ax.add_patch(border)\n",
    "\n",
    "    marker_size = max_star_size * 10 ** (magnitude / -2.5)\n",
    "\n",
    "    ax.scatter(stars['x'][bright_stars], stars['y'][bright_stars],\n",
    "               s=marker_size, color='white', marker='.', linewidths=0,\n",
    "               zorder=2)\n",
    "    # Draw the constellation lines.\n",
    "    xy1 = stars[['x', 'y']].loc[edges_star1].values\n",
    "    xy2 = stars[['x', 'y']].loc[edges_star2].values\n",
    "    lines_xy = np.rollaxis(np.array([xy1, xy2]), 1)\n",
    "\n",
    "    ax.add_collection(LineCollection(lines_xy, colors='#ffff', linewidths=0.15))\n",
    "\n",
    "    horizon = Circle((0, 0), radius=1, transform=ax.transData)\n",
    "    for col in ax.collections:\n",
    "        col.set_clip_path(horizon)\n",
    "\n",
    "    # other settings\n",
    "    ax.set_xlim(-1, 1)\n",
    "    ax.set_ylim(-1, 1)\n",
    "    plt.axis('off')\n",
    "    when_datetime = datetime.strptime(when, '%Y-%m-%d %H:%M')\n",
    "    plt.title(f\"Observation Location: {location}, Time: {when_datetime.strftime('%Y-%m-%d %H:%M')}\", loc='right', fontsize=10)\n",
    "   \n",
    "\n",
    "    plt.show()"
   ]
  },
  {
   "cell_type": "code",
   "execution_count": 0,
   "metadata": {
    "application/vnd.databricks.v1+cell": {
     "cellMetadata": {
      "byteLimit": 2048000,
      "rowLimit": 10000
     },
     "inputWidgets": {},
     "nuid": "2e34f35b-93fc-470d-bd18-20f2f6a59ad3",
     "showTitle": false,
     "title": ""
    }
   },
   "outputs": [],
   "source": [
    "location = 'Wellington'\n",
    "when = '2023-06-21 00:00'\n",
    "chart_size=12\n",
    "max_star_size=100\n",
    "create_star_chart(location, when, chart_size, max_star_size)"
   ]
  },
  {
   "cell_type": "code",
   "execution_count": 0,
   "metadata": {
    "application/vnd.databricks.v1+cell": {
     "cellMetadata": {
      "byteLimit": 2048000,
      "rowLimit": 10000
     },
     "inputWidgets": {},
     "nuid": "36bed695-e289-44dd-8eda-d9d2ac41648d",
     "showTitle": false,
     "title": ""
    }
   },
   "outputs": [],
   "source": [
    "def generate_star_chart(locations, whens):\n",
    "    for location in locations:\n",
    "        for when in whens:\n",
    "            chart_size = 12\n",
    "            max_star_size = 100\n",
    "\n",
    "            # generate the plot\n",
    "            create_star_chart(location, when, chart_size, max_star_size)\n",
    "\n",
    "            # save the plot\n",
    "            when_datetime = datetime.strptime(when, '%Y-%m-%d %H:%M')\n",
    "            filename = f\"{location}_{when_datetime.strftime('%Y%m%d_%H%M')}.png\"\n",
    "            #plt.savefig(filename, dpi=300)\n",
    "            #plt.savefig(filename, format='svg', dpi=1200)\n",
    "            plt.close()\n",
    "\n",
    "            # print confirmation message\n",
    "            print(f\"Plot saved for location {location} and time {when}\")"
   ]
  },
  {
   "cell_type": "code",
   "execution_count": 0,
   "metadata": {
    "application/vnd.databricks.v1+cell": {
     "cellMetadata": {
      "byteLimit": 2048000,
      "rowLimit": 10000
     },
     "inputWidgets": {},
     "nuid": "f6d67940-3cd2-4389-aeee-e79c1c4dbb71",
     "showTitle": false,
     "title": ""
    }
   },
   "outputs": [],
   "source": [
    "import os\n",
    "os.getcwd()"
   ]
  },
  {
   "cell_type": "code",
   "execution_count": 0,
   "metadata": {
    "application/vnd.databricks.v1+cell": {
     "cellMetadata": {
      "byteLimit": 2048000,
      "rowLimit": 10000
     },
     "inputWidgets": {},
     "nuid": "e6b097a4-a698-42d3-a569-8c330838cddd",
     "showTitle": false,
     "title": ""
    }
   },
   "outputs": [],
   "source": [
    "import os\n",
    "def create_folders_and_save_plots(locations, whens):\n",
    "    for location in locations:\n",
    "        # Create a folder for each location\n",
    "        folder_name = location.replace(\" \", \"_\")\n",
    "        #os.makedirs(folder_name, exist_ok=True)\n",
    "        #os.chdir(folder_name)\n",
    "\n",
    "        # Call the function to generate and save plots\n",
    "        generate_star_chart([location], whens)\n",
    "\n",
    "        #os.chdir(\"..\")  # Go back to the parent directory\n",
    "\n",
    "# Example usage:\n",
    "locations = ['Seattle', 'New York', 'Paris']\n",
    "whens = ['2023-06-21 00:00', '2023-09-23 00:00','2023-12-22 00:00']\n",
    "create_folders_and_save_plots(locations, whens)"
   ]
  },
  {
   "cell_type": "code",
   "execution_count": 0,
   "metadata": {
    "application/vnd.databricks.v1+cell": {
     "cellMetadata": {
      "byteLimit": 2048000,
      "rowLimit": 10000
     },
     "inputWidgets": {},
     "nuid": "740d98c1-6a7e-4f91-84d6-3e3139912193",
     "showTitle": false,
     "title": ""
    }
   },
   "outputs": [],
   "source": []
  },
  {
   "cell_type": "code",
   "execution_count": 0,
   "metadata": {
    "application/vnd.databricks.v1+cell": {
     "cellMetadata": {
      "byteLimit": 2048000,
      "rowLimit": 10000
     },
     "inputWidgets": {},
     "nuid": "2a93bdef-b9e3-49ec-90ba-ee237eef485e",
     "showTitle": false,
     "title": ""
    }
   },
   "outputs": [],
   "source": [
    "\n",
    "from geopy.geocoders import Nominatim\n",
    "\n",
    "# Create a Nominatim geocoder object\n",
    "geolocator = Nominatim(user_agent=\"myGeocoder\")\n",
    "\n",
    "# Geocode a location to obtain latitude and longitude coordinates\n",
    "location = \"Seattle\"\n",
    "address = geolocator.geocode(location)\n",
    "latitude = address.latitude\n",
    "longitude = address.longitude\n",
    "\n",
    "# Print the latitude and longitude\n",
    "print(f\"Latitude: {latitude}\")\n",
    "print(f\"Longitude: {longitude}\")\n"
   ]
  },
  {
   "cell_type": "code",
   "execution_count": 0,
   "metadata": {
    "application/vnd.databricks.v1+cell": {
     "cellMetadata": {},
     "inputWidgets": {},
     "nuid": "6f4bfd19-9d19-4259-9ea4-2550187e43a5",
     "showTitle": false,
     "title": ""
    }
   },
   "outputs": [],
   "source": []
  }
 ],
 "metadata": {
  "application/vnd.databricks.v1+notebook": {
   "dashboards": [],
   "language": "python",
   "notebookMetadata": {
    "pythonIndentUnit": 2
   },
   "notebookName": "customized star maps",
   "notebookOrigID": 2601264123926346,
   "widgets": {}
  }
 },
 "nbformat": 4,
 "nbformat_minor": 0
}
